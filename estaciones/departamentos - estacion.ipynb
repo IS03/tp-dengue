{
 "cells": [
  {
   "cell_type": "markdown",
   "id": "8e538abe",
   "metadata": {},
   "source": [
    "## Asignar estacion a departamento"
   ]
  },
  {
   "cell_type": "markdown",
   "id": "a0279ce8",
   "metadata": {},
   "source": [
    "Asignamos a cada departamento una estacion basandonos en la cercania"
   ]
  },
  {
   "cell_type": "code",
   "execution_count": 1,
   "id": "77e6d55b",
   "metadata": {},
   "outputs": [
    {
     "name": "stdout",
     "output_type": "stream",
     "text": [
      "Estaciones sin departamento asignado:\n",
      "     estacion_id estacion_id_interno                 estacion_nombre\n",
      "15           468             A872838           Aparicio - EEA Barrow\n",
      "33           489             A872946   Cañada Ombu - EEA Reconquista\n",
      "71             9              NH0358           INTA - Castelar (EMC)\n",
      "76            51              NH0464        INTA - El Colorado (EMC)\n",
      "88            65              NH0437        INTA - Reconquista (EMC)\n",
      "95           515             A872962    La Cigüeña - EEA Reconquista\n",
      "97           482             A872939      La Consulta - EEA Consulta\n",
      "123          483             A872940        Pareditas - EEA Consulta\n",
      "125          718             A872969  Perito Moreno - EEA Santa Cruz\n",
      "132          432             A872933     Rama Caida - EEA Rama Caida\n",
      "138          250             A872812          Sachayoj - EEA Quimilí\n",
      "141          358             A872890       San Pedro - EEA San Pedro\n",
      "148          421             A872916     Sombrerito - EEA Corrientes\n",
      "150          448             A872842  Stroeder -EEA Hilario Ascasubi\n",
      "168          366             A872841     Villalonga - EEA H Ascasubi\n"
     ]
    }
   ],
   "source": [
    "import pandas as pd\n",
    "from geopy.distance import geodesic\n",
    "\n",
    "# Cargar datos \n",
    "df_estaciones = pd.read_csv(\"C:/Users/juanm/Downloads/Estaciones.csv\", sep=\";\", encoding=\"latin1\")\n",
    "df_departamentos = pd.read_csv(\"C:/Users/juanm/Downloads/lista-departamentos.csv\")\n",
    "\n",
    "# Filtrar estaciones que no queremos\n",
    "estaciones_a_eliminar = [\n",
    "    \"NH0145\", \"A872993\", \"A872994\", \"A872996\", \"A872997\", \n",
    "    \"A872998\", \"A875001\", \"A875000\", \"A872999\"\n",
    "]\n",
    "df_estaciones = df_estaciones[~df_estaciones[\"Id Interno\"].isin(estaciones_a_eliminar)]\n",
    "\n",
    "# Renombrar columnas clave\n",
    "df_estaciones = df_estaciones.rename(columns={\n",
    "    \"Id\": \"estacion_id\",\n",
    "    \"Id Interno\": \"estacion_id_interno\",\n",
    "    \"Nombre\": \"estacion_nombre\",\n",
    "    \"Latitud\": \"lat_est\",\n",
    "    \"Longitud\": \"lon_est\"\n",
    "})\n",
    "\n",
    "df_departamentos = df_departamentos.rename(columns={\n",
    "    \"Código UTA 2020\": \"departamento_id\",\n",
    "    \"Nombre\": \"departamento_nombre\",\n",
    "    \"Latitud\": \"lat_dep\",\n",
    "    \"Longitud\": \"lon_dep\"\n",
    "})\n",
    "\n",
    "# Función para encontrar estación más cercana\n",
    "def estacion_mas_cercana(lat_dep, lon_dep, estaciones):\n",
    "    distancias = estaciones.apply(\n",
    "        lambda row: geodesic((lat_dep, lon_dep), (row[\"lat_est\"], row[\"lon_est\"])).kilometers,\n",
    "        axis=1\n",
    "    )\n",
    "    idx_min = distancias.idxmin()\n",
    "    est = estaciones.loc[idx_min]\n",
    "    return est[\"estacion_id\"], est[\"estacion_id_interno\"], est[\"estacion_nombre\"], est[\"lat_est\"], est[\"lon_est\"]\n",
    "\n",
    "# Asignar estación a cada departamento\n",
    "asignaciones = []\n",
    "for _, dep in df_departamentos.iterrows():\n",
    "    est_id, est_id_interno, est_nombre, lat_est, lon_est = estacion_mas_cercana(dep[\"lat_dep\"], dep[\"lon_dep\"], df_estaciones)\n",
    "    dist = geodesic((dep[\"lat_dep\"], dep[\"lon_dep\"]), (lat_est, lon_est)).kilometers\n",
    "    asignaciones.append([\n",
    "        dep[\"departamento_id\"], dep[\"departamento_nombre\"], dep[\"lat_dep\"], dep[\"lon_dep\"],\n",
    "        est_id, est_id_interno, est_nombre, lat_est, lon_est, dist\n",
    "    ])\n",
    "\n",
    "df_asignado = pd.DataFrame(asignaciones, columns=[\n",
    "    \"departamento_id\", \"departamento_nombre\", \"lat_dep\", \"lon_dep\",\n",
    "    \"estacion_id\", \"estacion_id_interno\", \"estacion_nombre\", \"lat_est\", \"lon_est\",\n",
    "    \"distancia_km\"\n",
    "])\n",
    "\n",
    "# Verificar estaciones huérfanas \n",
    "estaciones_asignadas = set(df_asignado[\"estacion_id_interno\"])\n",
    "estaciones_totales = set(df_estaciones[\"estacion_id_interno\"])\n",
    "estaciones_huerfanas = estaciones_totales - estaciones_asignadas\n",
    "\n",
    "print(\"Estaciones sin departamento asignado:\")\n",
    "print(df_estaciones[df_estaciones[\"estacion_id_interno\"].isin(estaciones_huerfanas)][\n",
    "    [\"estacion_id\", \"estacion_id_interno\", \"estacion_nombre\"]\n",
    "])"
   ]
  },
  {
   "cell_type": "markdown",
   "id": "99113440",
   "metadata": {},
   "source": [
    "## Verificaciones"
   ]
  },
  {
   "cell_type": "markdown",
   "id": "fceaa44d",
   "metadata": {},
   "source": [
    "Revisamos si la cantidad de filas es correctas, por si hubo duplicados"
   ]
  },
  {
   "cell_type": "code",
   "execution_count": 2,
   "id": "397964a7",
   "metadata": {},
   "outputs": [
    {
     "name": "stdout",
     "output_type": "stream",
     "text": [
      "Filas totales en df: 530\n",
      "Departamentos únicos por ID: 530\n",
      "Departamentos únicos por Nombre: 458\n"
     ]
    }
   ],
   "source": [
    "# Revisar la cantidad de filas es correctas\n",
    "print(\"Filas totales en df:\", len(df_asignado))\n",
    "print(\"Departamentos únicos por ID:\", df_asignado[\"departamento_id\"].nunique())\n",
    "print(\"Departamentos únicos por Nombre:\", df_asignado[\"departamento_nombre\"].nunique())"
   ]
  },
  {
   "cell_type": "markdown",
   "id": "b41dbcb0",
   "metadata": {},
   "source": [
    "Revisamos errores en las asignaciones y si hubo estaciones que no fueron asignadas a un departamento"
   ]
  },
  {
   "cell_type": "code",
   "execution_count": 3,
   "id": "368bc4c1",
   "metadata": {},
   "outputs": [
    {
     "name": "stdout",
     "output_type": "stream",
     "text": [
      "\n",
      "Estaciones en df_asignado que no existen en df_estaciones: 0\n",
      "[]\n",
      "\n",
      "Estaciones que no se usaron en la asignación: 15\n",
      "['A872946', 'A872890', 'A872916', 'A872841', 'A872940', 'A872939', 'NH0358', 'NH0437', 'A872933', 'A872838']\n"
     ]
    }
   ],
   "source": [
    "# Revisar si hay estaciones internas que no existen en el listado original\n",
    "try:\n",
    "    faltantes_est = set(df_asignado[\"estacion_id_interno\"]) - set(df_estaciones[\"estacion_id_interno\"])\n",
    "    print(f\"\\nEstaciones en df_asignado que no existen en df_estaciones: {len(faltantes_est)}\")\n",
    "    print(list(faltantes_est)[:10])\n",
    "except NameError:\n",
    "    print(\"\\nNo se pudo comparar con df_estaciones porque no está cargado en el entorno.\")\n",
    "\n",
    "# Revisar si hay estaciones que quedaron sin asignar\n",
    "try:\n",
    "    no_usadas = set(df_estaciones[\"estacion_id_interno\"]) - set(df_asignado[\"estacion_id_interno\"])\n",
    "    print(f\"\\nEstaciones que no se usaron en la asignación: {len(no_usadas)}\")\n",
    "    print(list(no_usadas)[:10])\n",
    "except NameError:\n",
    "    print(\"\\nNo se pudo calcular 'no_usadas' porque df_estaciones no está cargado.\")"
   ]
  },
  {
   "cell_type": "markdown",
   "id": "b77c0707",
   "metadata": {},
   "source": [
    "Revisamos los departamentos con mayor distancia a una estacion"
   ]
  },
  {
   "cell_type": "code",
   "execution_count": 4,
   "id": "fba639ab",
   "metadata": {},
   "outputs": [
    {
     "name": "stdout",
     "output_type": "stream",
     "text": [
      "Departamentos con mayor distancia a su estación asignada (km):\n",
      "departamento_id      departamento_nombre  estacion_id estacion_id_interno                estacion_nombre  distancia_km\n",
      "          94028      antartida argentina          339             A872859 San Sebastian - EEA Santa Cruz   1326.500849\n",
      "          94021  islas del atlantico sur          339             A872859 San Sebastian - EEA Santa Cruz    657.336339\n",
      "          66133                rivadavia          395             A872882          Palma Sola - EEA Yuto    253.797303\n",
      "          10028 antofagasta de la sierra          507             A872877         Trancas - EEA Famaillá    253.174607\n",
      "          34007                  bermejo          713             A872899  J J Castelli - EEA Sáenz Peña    251.840253\n",
      "          58084                  norquin          434             A872935      Malargüe - EEA Rama Caida    248.558223\n",
      "          34063              ramon lista          395             A872882          Palma Sola - EEA Yuto    248.042127\n",
      "          46098                 vinchina          393             A872885      Andalgala - EEA Catamarca    236.133175\n",
      "          42049                 chalileo          233             A872823             Anguil -EEA Anguil    222.802569\n",
      "          62049               9 de julio          667             A872898 Ing. Jacobacci - EEA Bariloche    222.445079\n",
      "          66105                los andes          488             A872925           Hornillos - IPAF NOA    219.975072\n",
      "          58077                    minas          434             A872935      Malargüe - EEA Rama Caida    215.370879\n",
      "          26028      florentino ameghino          350             A872855  Puerto Piramides - EEA Chubut    213.956541\n",
      "          62084                 valcheta          674             A872972  Gral. Conesa - EEA Valle Inf.    213.046479\n",
      "          58063                 loncopue          519             A872947      Plottier - IPAF Patagonia    211.530356\n",
      "          42091            limay mahuida          268             A872846    Gral. Roca - EEA Alto Valle    210.798864\n",
      "          46077         general lamadrid          379             A872888 P de Los Llanos - EEA La Rioja    207.259068\n",
      "          34028                  matacos          395             A872882          Palma Sola - EEA Yuto    205.253823\n",
      "          58007                  alumine          269             A872849      Bariloche - EEA Bariloche    202.911378\n",
      "          58042               chos malal          434             A872935      Malargüe - EEA Rama Caida    201.209181\n",
      "          94014                  ushuaia          339             A872859 San Sebastian - EEA Santa Cruz    199.663350\n",
      "          94035                  tolhuin          339             A872859 San Sebastian - EEA Santa Cruz    198.554309\n",
      "          46028    coronel felipe varela          379             A872888 P de Los Llanos - EEA La Rioja    182.817572\n",
      "          58091               pehuenches          434             A872935      Malargüe - EEA Rama Caida    175.487784\n",
      "          42084             lihuel calel          300             A872847  Rio Colorado - EEA Alto Valle    172.256141\n",
      "          46049                 famatina          379             A872888 P de Los Llanos - EEA La Rioja    168.454634\n",
      "          26105                   telsen          679             A872856    Paso de Indios - EEA Chubut    165.107502\n",
      "          58021                catan lil          519             A872947      Plottier - IPAF Patagonia    162.820891\n",
      "          66014                    cachi          507             A872877         Trancas - EEA Famaillá    162.372544\n",
      "          70056                   jachal          444             A872929          Pocito - EEA San juan    161.511085\n"
     ]
    }
   ],
   "source": [
    "# Revisamos los departamentos con mayor distancia a su estación asignada\n",
    "distancia = df_asignado.sort_values(\"distancia_km\", ascending=False).head(30)\n",
    "\n",
    "print(\"Departamentos con mayor distancia a su estación asignada (km):\")\n",
    "print(distancia[[\n",
    "    \"departamento_id\", \"departamento_nombre\",\n",
    "    \"estacion_id\", \"estacion_id_interno\", \"estacion_nombre\",\n",
    "    \"distancia_km\"\n",
    "]].to_string(index=False))"
   ]
  },
  {
   "cell_type": "markdown",
   "id": "9bd2b5d7",
   "metadata": {},
   "source": [
    "Como podemos ver, los departamentos que mas lejos estan de una estacion son de la Antartida, de las islas, o de sitios donde hay pocas estaciones meteorologicas."
   ]
  },
  {
   "cell_type": "markdown",
   "id": "7037cc4d",
   "metadata": {},
   "source": [
    "Revisamos estadisticas basicas de las distancias"
   ]
  },
  {
   "cell_type": "code",
   "execution_count": 5,
   "id": "767e1284",
   "metadata": {},
   "outputs": [
    {
     "name": "stdout",
     "output_type": "stream",
     "text": [
      "Estadísticas de distancias (km):\n",
      "count     530.000000\n",
      "mean       62.746443\n",
      "std        78.553314\n",
      "min         0.494425\n",
      "25%        24.545533\n",
      "50%        46.113584\n",
      "75%        79.215646\n",
      "max      1326.500849\n",
      "Name: distancia_km, dtype: float64\n"
     ]
    },
    {
     "data": {
      "image/png": "[encoded data removed]",
      "text/plain": [
       "<Figure size 1000x600 with 1 Axes>"
      ]
     },
     "metadata": {},
     "output_type": "display_data"
    }
   ],
   "source": [
    "# Revisamos estadisticas de distribucion de distancias \n",
    "import matplotlib.pyplot as plt\n",
    "\n",
    "# Estadísticas básicas\n",
    "print(\"Estadísticas de distancias (km):\")\n",
    "print(df_asignado[\"distancia_km\"].describe())\n",
    "\n",
    "# Histograma de distancias\n",
    "plt.figure(figsize=(10,6))\n",
    "plt.hist(df_asignado[\"distancia_km\"], bins=30, color='skyblue', edgecolor='black')\n",
    "plt.title(\"Distribución de distancias entre departamentos y estaciones asignadas\")\n",
    "plt.xlabel(\"Distancia (km)\")\n",
    "plt.ylabel(\"Cantidad de departamentos\")\n",
    "plt.grid(axis='y', linestyle='--', alpha=0.7)\n",
    "plt.show()"
   ]
  },
  {
   "cell_type": "markdown",
   "id": "1f542955",
   "metadata": {},
   "source": [
    "Creamos un para para visualizar bien que no haya habido errores en la asignacion "
   ]
  },
  {
   "cell_type": "code",
   "execution_count": 6,
   "id": "645ee370",
   "metadata": {},
   "outputs": [
    {
     "name": "stdout",
     "output_type": "stream",
     "text": [
      "Mapa generado: e:\\Archivos F\\mapa_departamentos_estaciones.html\n"
     ]
    },
    {
     "data": {
      "text/plain": [
       "True"
      ]
     },
     "execution_count": 6,
     "metadata": {},
     "output_type": "execute_result"
    }
   ],
   "source": [
    "import folium\n",
    "import os\n",
    "import webbrowser\n",
    "\n",
    "# Crear mapa centrado en Argentina\n",
    "mapa = folium.Map(location=[-38, -64], zoom_start=4)\n",
    "\n",
    "# Agregar estaciones (puntos grandes y rojos)\n",
    "for _, est in df_estaciones.iterrows():\n",
    "    folium.CircleMarker(\n",
    "        location=[est[\"lat_est\"], est[\"lon_est\"]],\n",
    "        radius=6,\n",
    "        color=\"red\",\n",
    "        fill=True,\n",
    "        fill_color=\"red\",\n",
    "        popup=f'{est[\"estacion_nombre\"]} ({est[\"estacion_id_interno\"]})'\n",
    "    ).add_to(mapa)\n",
    "\n",
    "# Agregar departamentos (puntos pequeños y azules)\n",
    "for _, dep in df_asignado.iterrows():\n",
    "    folium.CircleMarker(\n",
    "        location=[dep[\"lat_dep\"], dep[\"lon_dep\"]],\n",
    "        radius=3,\n",
    "        color=\"blue\",\n",
    "        fill=True,\n",
    "        fill_color=\"blue\",\n",
    "        popup=f'{dep[\"departamento_nombre\"]} ({dep[\"departamento_id\"]})'\n",
    "    ).add_to(mapa)\n",
    "    \n",
    "    # Línea desde departamento hasta su estación asignada\n",
    "    folium.PolyLine(\n",
    "        locations=[[dep[\"lat_dep\"], dep[\"lon_dep\"]], [dep[\"lat_est\"], dep[\"lon_est\"]]],\n",
    "        color=\"green\",\n",
    "        weight=1,\n",
    "        opacity=0.5\n",
    "    ).add_to(mapa)\n",
    "\n",
    "# Guardar mapa a archivo HTML\n",
    "ruta_completa = os.path.abspath(\"mapa_departamentos_estaciones.html\")\n",
    "mapa.save(ruta_completa)\n",
    "print(f\"Mapa generado: {ruta_completa}\")\n",
    "\n",
    "# Abrir automáticamente \n",
    "webbrowser.open(f\"file://{ruta_completa}\")"
   ]
  },
  {
   "cell_type": "markdown",
   "id": "e8b1b313",
   "metadata": {},
   "source": [
    "## Reasignacion de estaciones \"huerfanas\""
   ]
  },
  {
   "cell_type": "markdown",
   "id": "6840d193",
   "metadata": {},
   "source": [
    "Reasignamos las estaciones que sean posibles, para usar la mayor cantidad de datos, pero cuidando que no haya un aumento considerable en las distancias entre departamentos y estaciones."
   ]
  },
  {
   "cell_type": "code",
   "execution_count": 7,
   "id": "794f77da",
   "metadata": {},
   "outputs": [],
   "source": [
    "# Diccionario de reasignaciones \n",
    "reasign_manual = {\n",
    "    \"A872969\": \"78035\",\n",
    "    \"A872933\": \"50105\",\n",
    "    \"A872940\": \"50091\",\n",
    "    \"A872812\": \"86014\",\n",
    "    \"A872962\": \"82077\",\n",
    "    \"A872842\": \"6602\",\n",
    "    \"A872970\": \"62007\",\n",
    "    \"A872949\": \"62028\",\n",
    "    \"A872838\": \"6553\",\n",
    "    \"NH0464\": \"22084\",\n",
    "    \"A872916\": \"18042\"      \n",
    "}\n",
    "\n",
    "# Reasignar \n",
    "for est_id_interno, dep_id in reasign_manual.items():\n",
    "    # Eliminar asignación automática del departamento\n",
    "    df_asignado = df_asignado[df_asignado[\"departamento_id\"] != dep_id]\n",
    "    \n",
    "    # Buscar la estación\n",
    "    est = df_estaciones[df_estaciones[\"estacion_id_interno\"] == est_id_interno].iloc[0]\n",
    "    dep = df_departamentos[df_departamentos[\"departamento_id\"] == dep_id].iloc[0]\n",
    "    \n",
    "    # Agregar nueva fila\n",
    "    dist = geodesic((dep[\"lat_dep\"], dep[\"lon_dep\"]), (est[\"lat_est\"], est[\"lon_est\"])).kilometers\n",
    "    nueva_fila = {\n",
    "        \"departamento_id\": dep[\"departamento_id\"],\n",
    "        \"departamento_nombre\": dep[\"departamento_nombre\"],\n",
    "        \"lat_dep\": dep[\"lat_dep\"],\n",
    "        \"lon_dep\": dep[\"lon_dep\"],\n",
    "        \"estacion_id\": est[\"estacion_id\"],\n",
    "        \"estacion_id_interno\": est[\"estacion_id_interno\"],\n",
    "        \"estacion_nombre\": est[\"estacion_nombre\"],\n",
    "        \"lat_est\": est[\"lat_est\"],\n",
    "        \"lon_est\": est[\"lon_est\"],\n",
    "        \"distancia_km\": dist\n",
    "    }\n",
    "    df_asignado = pd.concat([df_asignado, pd.DataFrame([nueva_fila])], ignore_index=True)\n"
   ]
  },
  {
   "cell_type": "markdown",
   "id": "c06cb43f",
   "metadata": {},
   "source": [
    "Tambien reasignamos algunas estaciones que no tenian datos"
   ]
  },
  {
   "cell_type": "markdown",
   "id": "432577e2",
   "metadata": {},
   "source": [
    "## Verificacion"
   ]
  },
  {
   "cell_type": "markdown",
   "id": "1399f592",
   "metadata": {},
   "source": [
    "Revisamos que no hubo duplicados"
   ]
  },
  {
   "cell_type": "code",
   "execution_count": 8,
   "id": "121f9c22",
   "metadata": {},
   "outputs": [
    {
     "name": "stdout",
     "output_type": "stream",
     "text": [
      "Filas totales en df: 530\n",
      "Departamentos únicos por ID: 530\n",
      "Departamentos únicos por Nombre: 458\n"
     ]
    }
   ],
   "source": [
    "# Revisar la cantidad de filas es correctas\n",
    "print(\"Filas totales en df:\", len(df_asignado))\n",
    "print(\"Departamentos únicos por ID:\", df_asignado[\"departamento_id\"].nunique())\n",
    "print(\"Departamentos únicos por Nombre:\", df_asignado[\"departamento_nombre\"].nunique())"
   ]
  },
  {
   "cell_type": "markdown",
   "id": "bbf81e6d",
   "metadata": {},
   "source": [
    "Vemos cuantas estaciones quedaron huerfanas"
   ]
  },
  {
   "cell_type": "code",
   "execution_count": 9,
   "id": "cf32d582",
   "metadata": {},
   "outputs": [
    {
     "name": "stdout",
     "output_type": "stream",
     "text": [
      "Estaciones que aún no tienen departamento asignado:\n",
      "     estacion_id estacion_id_interno                estacion_nombre\n",
      "33           489             A872946  Cañada Ombu - EEA Reconquista\n",
      "71             9              NH0358          INTA - Castelar (EMC)\n",
      "75            40              NH0460        INTA - Corrientes (EMC)\n",
      "88            65              NH0437       INTA - Reconquista (EMC)\n",
      "97           482             A872939     La Consulta - EEA Consulta\n",
      "141          358             A872890      San Pedro - EEA San Pedro\n",
      "168          366             A872841    Villalonga - EEA H Ascasubi\n"
     ]
    }
   ],
   "source": [
    "# Verificar estaciones huérfanas después de reasignación\n",
    "estaciones_asignadas = set(df_asignado[\"estacion_id_interno\"])\n",
    "estaciones_totales = set(df_estaciones[\"estacion_id_interno\"])\n",
    "estaciones_huerfanas = estaciones_totales - estaciones_asignadas\n",
    "\n",
    "print(\"Estaciones que aún no tienen departamento asignado:\")\n",
    "print(df_estaciones[df_estaciones[\"estacion_id_interno\"].isin(estaciones_huerfanas)][\n",
    "    [\"estacion_id\", \"estacion_id_interno\", \"estacion_nombre\"]\n",
    "])\n"
   ]
  },
  {
   "cell_type": "markdown",
   "id": "cdb38b1d",
   "metadata": {},
   "source": [
    "Vemos si hubo algun error en la asignacion"
   ]
  },
  {
   "cell_type": "code",
   "execution_count": 10,
   "id": "f272ffc7",
   "metadata": {},
   "outputs": [
    {
     "name": "stdout",
     "output_type": "stream",
     "text": [
      "\n",
      "Estaciones en df_asignado que no existen en df_estaciones: 0\n",
      "[]\n",
      "\n",
      "Estaciones que no se usaron en la asignación: 7\n",
      "['A872946', 'A872890', 'A872841', 'NH0460', 'A872939', 'NH0358', 'NH0437']\n"
     ]
    }
   ],
   "source": [
    "# Revisar si hay estaciones internas que no existen en el listado original\n",
    "try:\n",
    "    faltantes_est = set(df_asignado[\"estacion_id_interno\"]) - set(df_estaciones[\"estacion_id_interno\"])\n",
    "    print(f\"\\nEstaciones en df_asignado que no existen en df_estaciones: {len(faltantes_est)}\")\n",
    "    print(list(faltantes_est)[:10])\n",
    "except NameError:\n",
    "    print(\"\\nNo se pudo comparar con df_estaciones porque no está cargado en el entorno.\")\n",
    "\n",
    "# Revisar si hay estaciones que quedaron sin asignar\n",
    "try:\n",
    "    no_usadas = set(df_estaciones[\"estacion_id_interno\"]) - set(df_asignado[\"estacion_id_interno\"])\n",
    "    print(f\"\\nEstaciones que no se usaron en la asignación: {len(no_usadas)}\")\n",
    "    print(list(no_usadas)[:10])\n",
    "except NameError:\n",
    "    print(\"\\nNo se pudo calcular 'no_usadas' porque df_estaciones no está cargado.\")"
   ]
  },
  {
   "cell_type": "markdown",
   "id": "b1dc86ea",
   "metadata": {},
   "source": [
    "Vemos si la estaciones que asignamos esten correctamente asignadas"
   ]
  },
  {
   "cell_type": "code",
   "execution_count": 11,
   "id": "d5f3b711",
   "metadata": {},
   "outputs": [
    {
     "name": "stdout",
     "output_type": "stream",
     "text": [
      "departamento_id departamento_nombre    lat_dep    lon_dep  estacion_id estacion_id_interno                estacion_nombre  lat_est  lon_est  distancia_km\n",
      "          78035   lago buenos aires -46.042084 -71.658737          718             A872969 Perito Moreno - EEA Santa Cruz    -46.6   -70.92     84.159133\n",
      "departamento_id departamento_nombre    lat_dep    lon_dep  estacion_id estacion_id_interno             estacion_nombre  lat_est  lon_est  distancia_km\n",
      "          50105          san rafael -34.220188 -67.911636          432             A872933 Rama Caida - EEA Rama Caida   -34.67   -68.39     66.501102\n",
      "departamento_id departamento_nombre    lat_dep    lon_dep  estacion_id estacion_id_interno          estacion_nombre  lat_est  lon_est  distancia_km\n",
      "          50091          san carlos -33.670944 -68.980523          483             A872940 Pareditas - EEA Consulta   -33.95   -69.08     32.293963\n",
      "departamento_id departamento_nombre    lat_dep    lon_dep  estacion_id estacion_id_interno        estacion_nombre  lat_est  lon_est  distancia_km\n",
      "          86014             alberdi -26.789467 -62.705166          250             A872812 Sachayoj - EEA Quimilí   -26.46   -61.81     96.326986\n",
      "departamento_id departamento_nombre    lat_dep    lon_dep  estacion_id estacion_id_interno              estacion_nombre  lat_est  lon_est  distancia_km\n",
      "          82077          9 de julio -29.075847 -61.736251          515             A872962 La Cigüeña - EEA Reconquista   -29.25   -61.02     72.305003\n",
      "departamento_id departamento_nombre    lat_dep    lon_dep  estacion_id estacion_id_interno                estacion_nombre  lat_est  lon_est  distancia_km\n",
      "           6602           patagones -40.813686 -62.662998          448             A872842 Stroeder -EEA Hilario Ascasubi   -40.18   -62.61     70.510395\n",
      "departamento_id departamento_nombre    lat_dep    lon_dep  estacion_id estacion_id_interno                 estacion_nombre  lat_est  lon_est  distancia_km\n",
      "          62007       adolfo alsina -40.633583 -63.509506          724             A872970 Valle Inferior - EEA Valle Inf.    -40.8   -63.06     42.238023\n",
      "departamento_id departamento_nombre    lat_dep    lon_dep  estacion_id estacion_id_interno                estacion_nombre  lat_est  lon_est  distancia_km\n",
      "          62028              conesa -40.220566 -64.070602          711             A872949 Guardia Mitre - EEA V Inferior   -40.43   -63.68     40.531653\n",
      "departamento_id departamento_nombre    lat_dep    lon_dep  estacion_id estacion_id_interno       estacion_nombre  lat_est  lon_est  distancia_km\n",
      "           6553       monte hermoso -38.995358 -61.215202          468             A872838 Aparicio - EEA Barrow   -38.67   -60.93     43.792859\n",
      "departamento_id           departamento_nombre   lat_dep    lon_dep  estacion_id estacion_id_interno          estacion_nombre  lat_est  lon_est  distancia_km\n",
      "          22084 libertador general san martin -26.51481 -59.225561           51              NH0464 INTA - El Colorado (EMC)    -26.3   -59.38     28.352151\n",
      "departamento_id departamento_nombre    lat_dep    lon_dep  estacion_id estacion_id_interno             estacion_nombre  lat_est  lon_est  distancia_km\n",
      "          18042           empedrado -27.705781 -58.688083          421             A872916 Sombrerito - EEA Corrientes   -27.65   -58.77     10.174303\n"
     ]
    }
   ],
   "source": [
    "# \"A872969\": \"78035\",\n",
    "# \"A872933\": \"50105\",\n",
    "# \"A872940\": \"50091\",\n",
    "# \"A872812\": \"86014\",\n",
    "# \"A872962\": \"82077\",\n",
    "# \"A872842\": \"6602\",\n",
    "# \"A872970\": \"62007\",\n",
    "# \"A872949\": \"62028\",\n",
    "# \"A872838\": \"6553\",\n",
    "# \"NH0464\": \"22084\",\n",
    "# \"A872916\": \"18042\"   \n",
    "\n",
    "\n",
    "print(df_asignado.loc[df_asignado[\"estacion_id_interno\"] == \"A872969\"].to_string(index=False))\n",
    "print(df_asignado.loc[df_asignado[\"estacion_id_interno\"] == \"A872933\"].to_string(index=False))\n",
    "print(df_asignado.loc[df_asignado[\"estacion_id_interno\"] == \"A872940\"].to_string(index=False))\n",
    "print(df_asignado.loc[df_asignado[\"estacion_id_interno\"] == \"A872812\"].to_string(index=False))\n",
    "print(df_asignado.loc[df_asignado[\"estacion_id_interno\"] == \"A872962\"].to_string(index=False))\n",
    "print(df_asignado.loc[df_asignado[\"estacion_id_interno\"] == \"A872842\"].to_string(index=False))\n",
    "print(df_asignado.loc[df_asignado[\"estacion_id_interno\"] == \"A872970\"].to_string(index=False))\n",
    "print(df_asignado.loc[df_asignado[\"estacion_id_interno\"] == \"A872949\"].to_string(index=False))\n",
    "print(df_asignado.loc[df_asignado[\"estacion_id_interno\"] == \"A872838\"].to_string(index=False))\n",
    "print(df_asignado.loc[df_asignado[\"estacion_id_interno\"] == \"NH0464\"].to_string(index=False))\n",
    "print(df_asignado.loc[df_asignado[\"estacion_id_interno\"] == \"A872916\"].to_string(index=False))"
   ]
  },
  {
   "cell_type": "markdown",
   "id": "c9303755",
   "metadata": {},
   "source": [
    "Revisamos que no hayan quedado nulos"
   ]
  },
  {
   "cell_type": "code",
   "execution_count": 12,
   "id": "91d4f6a4",
   "metadata": {},
   "outputs": [
    {
     "name": "stdout",
     "output_type": "stream",
     "text": [
      "Cantidad nulos: departamento_id        0\n",
      "departamento_nombre    0\n",
      "lat_dep                0\n",
      "lon_dep                0\n",
      "estacion_id            0\n",
      "estacion_id_interno    0\n",
      "estacion_nombre        0\n",
      "lat_est                0\n",
      "lon_est                0\n",
      "distancia_km           0\n",
      "dtype: int64\n"
     ]
    }
   ],
   "source": [
    "print(\"Cantidad nulos:\", df_asignado.isnull().sum())"
   ]
  },
  {
   "cell_type": "markdown",
   "id": "9648e04f",
   "metadata": {},
   "source": [
    "## Distribuciones"
   ]
  },
  {
   "cell_type": "markdown",
   "id": "8c7e2a14",
   "metadata": {},
   "source": [
    "Proporcion de departamentos por rango de distancia"
   ]
  },
  {
   "cell_type": "code",
   "execution_count": 14,
   "id": "99856f21",
   "metadata": {},
   "outputs": [
    {
     "name": "stdout",
     "output_type": "stream",
     "text": [
      "Proporción de departamentos por rango de distancia (%):\n",
      "distancia_rango\n",
      "<50 km          53.396226\n",
      "50–100 km       30.943396\n",
      "100–200 km      11.886792\n",
      "200–500 km       3.396226\n",
      "500–1000 km      0.188679\n",
      "1000–2000 km     0.188679\n",
      "Name: proportion, dtype: float64\n"
     ]
    }
   ],
   "source": [
    "bins = [0, 50, 100, 200, 500, 1000, 2000]\n",
    "labels = [\"<50 km\", \"50–100 km\", \"100–200 km\", \"200–500 km\", \"500–1000 km\", \"1000–2000 km\"]\n",
    "\n",
    "df_asignado[\"distancia_rango\"] = pd.cut(df_asignado[\"distancia_km\"], bins=bins, labels=labels, include_lowest=True)\n",
    "\n",
    "proporcion_rangos = df_asignado[\"distancia_rango\"].value_counts(normalize=True).sort_index() * 100\n",
    "\n",
    "print(\"Proporción de departamentos por rango de distancia (%):\")\n",
    "print(proporcion_rangos)"
   ]
  },
  {
   "cell_type": "markdown",
   "id": "a665f78f",
   "metadata": {},
   "source": [
    "Estaciones con mas departamentos asignados"
   ]
  },
  {
   "cell_type": "code",
   "execution_count": 15,
   "id": "1c99eae4",
   "metadata": {},
   "outputs": [
    {
     "data": {
      "text/html": [
       "<div>\n",
       "<style scoped>\n",
       "    .dataframe tbody tr th:only-of-type {\n",
       "        vertical-align: middle;\n",
       "    }\n",
       "\n",
       "    .dataframe tbody tr th {\n",
       "        vertical-align: top;\n",
       "    }\n",
       "\n",
       "    .dataframe thead th {\n",
       "        text-align: right;\n",
       "    }\n",
       "</style>\n",
       "<table border=\"1\" class=\"dataframe\">\n",
       "  <thead>\n",
       "    <tr style=\"text-align: right;\">\n",
       "      <th></th>\n",
       "      <th>estacion_id_interno</th>\n",
       "      <th>estacion_nombre</th>\n",
       "      <th>departamento_nombre</th>\n",
       "    </tr>\n",
       "  </thead>\n",
       "  <tbody>\n",
       "    <tr>\n",
       "      <th>7</th>\n",
       "      <td>A872810</td>\n",
       "      <td>Llavallol - ICyA CIRN</td>\n",
       "      <td>19</td>\n",
       "    </tr>\n",
       "    <tr>\n",
       "      <th>130</th>\n",
       "      <td>A872995</td>\n",
       "      <td>A872995 - CITEDEF-INTA</td>\n",
       "      <td>19</td>\n",
       "    </tr>\n",
       "    <tr>\n",
       "      <th>0</th>\n",
       "      <td>A872801</td>\n",
       "      <td>Castelar - ICyA CIRN</td>\n",
       "      <td>15</td>\n",
       "    </tr>\n",
       "    <tr>\n",
       "      <th>58</th>\n",
       "      <td>A872877</td>\n",
       "      <td>Trancas - EEA Famaillá</td>\n",
       "      <td>15</td>\n",
       "    </tr>\n",
       "    <tr>\n",
       "      <th>92</th>\n",
       "      <td>A872925</td>\n",
       "      <td>Hornillos - IPAF NOA</td>\n",
       "      <td>13</td>\n",
       "    </tr>\n",
       "    <tr>\n",
       "      <th>...</th>\n",
       "      <td>...</td>\n",
       "      <td>...</td>\n",
       "      <td>...</td>\n",
       "    </tr>\n",
       "    <tr>\n",
       "      <th>140</th>\n",
       "      <td>NH0421</td>\n",
       "      <td>INTA - Hilario Ascasubi (EMC)</td>\n",
       "      <td>1</td>\n",
       "    </tr>\n",
       "    <tr>\n",
       "      <th>137</th>\n",
       "      <td>NH0400</td>\n",
       "      <td>INTA - Balcarce (EMC)</td>\n",
       "      <td>1</td>\n",
       "    </tr>\n",
       "    <tr>\n",
       "      <th>146</th>\n",
       "      <td>NH0464</td>\n",
       "      <td>INTA - El Colorado (EMC)</td>\n",
       "      <td>1</td>\n",
       "    </tr>\n",
       "    <tr>\n",
       "      <th>149</th>\n",
       "      <td>NH0496</td>\n",
       "      <td>INTA - Concordia (EMC)</td>\n",
       "      <td>1</td>\n",
       "    </tr>\n",
       "    <tr>\n",
       "      <th>151</th>\n",
       "      <td>NH0502</td>\n",
       "      <td>INTA - Marcos Juarez (EMC)</td>\n",
       "      <td>1</td>\n",
       "    </tr>\n",
       "  </tbody>\n",
       "</table>\n",
       "<p>153 rows × 3 columns</p>\n",
       "</div>"
      ],
      "text/plain": [
       "    estacion_id_interno                estacion_nombre  departamento_nombre\n",
       "7               A872810          Llavallol - ICyA CIRN                   19\n",
       "130             A872995         A872995 - CITEDEF-INTA                   19\n",
       "0               A872801           Castelar - ICyA CIRN                   15\n",
       "58              A872877         Trancas - EEA Famaillá                   15\n",
       "92              A872925           Hornillos - IPAF NOA                   13\n",
       "..                  ...                            ...                  ...\n",
       "140              NH0421  INTA - Hilario Ascasubi (EMC)                    1\n",
       "137              NH0400          INTA - Balcarce (EMC)                    1\n",
       "146              NH0464       INTA - El Colorado (EMC)                    1\n",
       "149              NH0496         INTA - Concordia (EMC)                    1\n",
       "151              NH0502     INTA - Marcos Juarez (EMC)                    1\n",
       "\n",
       "[153 rows x 3 columns]"
      ]
     },
     "execution_count": 15,
     "metadata": {},
     "output_type": "execute_result"
    }
   ],
   "source": [
    "departamento_estacion = (\n",
    "    df_asignado.groupby([\"estacion_id_interno\", \"estacion_nombre\"])[\"departamento_nombre\"]\n",
    "    .nunique()\n",
    "    .reset_index()\n",
    "    .sort_values(\"departamento_nombre\", ascending=False)\n",
    ")\n",
    "\n",
    "departamento_estacion"
   ]
  },
  {
   "cell_type": "code",
   "execution_count": 16,
   "id": "4750f471",
   "metadata": {},
   "outputs": [
    {
     "data": {
      "image/png": "[encoded data removed]",
      "text/plain": [
       "<Figure size 1000x600 with 1 Axes>"
      ]
     },
     "metadata": {},
     "output_type": "display_data"
    }
   ],
   "source": [
    "import matplotlib.pyplot as plt\n",
    "\n",
    "departamento_estacion = (\n",
    "    df_asignado.groupby([\"estacion_id_interno\", \"estacion_nombre\"])[\"departamento_nombre\"]\n",
    "    .nunique()\n",
    "    .reset_index()\n",
    "    .sort_values(\"departamento_nombre\", ascending=False)\n",
    ")\n",
    "\n",
    "estaciones_repetidas = departamento_estacion.head(20)\n",
    "\n",
    "plt.figure(figsize=(10,6))\n",
    "plt.barh(estaciones_repetidas[\"estacion_nombre\"], estaciones_repetidas[\"departamento_nombre\"], color=\"skyblue\")\n",
    "plt.xlabel(\"Cantidad de departamentos\")\n",
    "plt.ylabel(\"Estación\")\n",
    "plt.title(\"Estaciones con más departamentos asignados\")\n",
    "plt.gca().invert_yaxis() \n",
    "plt.show()"
   ]
  },
  {
   "cell_type": "markdown",
   "id": "f7f2ced3",
   "metadata": {},
   "source": [
    "## Guardamos "
   ]
  },
  {
   "cell_type": "code",
   "execution_count": 13,
   "id": "1c6c2ff8",
   "metadata": {},
   "outputs": [
    {
     "name": "stdout",
     "output_type": "stream",
     "text": [
      "Archivo 'departamentos_con_estacion.csv' generado con éxito.\n"
     ]
    },
    {
     "data": {
      "text/html": [
       "<div>\n",
       "<style scoped>\n",
       "    .dataframe tbody tr th:only-of-type {\n",
       "        vertical-align: middle;\n",
       "    }\n",
       "\n",
       "    .dataframe tbody tr th {\n",
       "        vertical-align: top;\n",
       "    }\n",
       "\n",
       "    .dataframe thead th {\n",
       "        text-align: right;\n",
       "    }\n",
       "</style>\n",
       "<table border=\"1\" class=\"dataframe\">\n",
       "  <thead>\n",
       "    <tr style=\"text-align: right;\">\n",
       "      <th></th>\n",
       "      <th>departamento_id</th>\n",
       "      <th>departamento_nombre</th>\n",
       "      <th>lat_dep</th>\n",
       "      <th>lon_dep</th>\n",
       "      <th>estacion_id</th>\n",
       "      <th>estacion_id_interno</th>\n",
       "      <th>estacion_nombre</th>\n",
       "      <th>lat_est</th>\n",
       "      <th>lon_est</th>\n",
       "      <th>distancia_km</th>\n",
       "    </tr>\n",
       "  </thead>\n",
       "  <tbody>\n",
       "    <tr>\n",
       "      <th>0</th>\n",
       "      <td>82105</td>\n",
       "      <td>san jeronimo</td>\n",
       "      <td>-32.239935</td>\n",
       "      <td>-61.231266</td>\n",
       "      <td>297</td>\n",
       "      <td>A872868</td>\n",
       "      <td>Las Rosas - EEA Oliveros</td>\n",
       "      <td>-32.49</td>\n",
       "      <td>-61.57</td>\n",
       "      <td>42.253384</td>\n",
       "    </tr>\n",
       "    <tr>\n",
       "      <th>1</th>\n",
       "      <td>38112</td>\n",
       "      <td>yavi</td>\n",
       "      <td>-22.329812</td>\n",
       "      <td>-65.825982</td>\n",
       "      <td>516</td>\n",
       "      <td>A872923</td>\n",
       "      <td>Abra Pampa - EEA Abra Pampa</td>\n",
       "      <td>-22.80</td>\n",
       "      <td>-65.83</td>\n",
       "      <td>52.069337</td>\n",
       "    </tr>\n",
       "    <tr>\n",
       "      <th>2</th>\n",
       "      <td>62035</td>\n",
       "      <td>el cuy</td>\n",
       "      <td>-39.866718</td>\n",
       "      <td>-68.703438</td>\n",
       "      <td>519</td>\n",
       "      <td>A872947</td>\n",
       "      <td>Plottier - IPAF Patagonia</td>\n",
       "      <td>-38.95</td>\n",
       "      <td>-68.33</td>\n",
       "      <td>106.737771</td>\n",
       "    </tr>\n",
       "    <tr>\n",
       "      <th>3</th>\n",
       "      <td>6623</td>\n",
       "      <td>pergamino</td>\n",
       "      <td>-33.589305</td>\n",
       "      <td>-60.772765</td>\n",
       "      <td>236</td>\n",
       "      <td>A872814</td>\n",
       "      <td>Alfonso - EEA Pergamino</td>\n",
       "      <td>-33.91</td>\n",
       "      <td>-60.84</td>\n",
       "      <td>36.112224</td>\n",
       "    </tr>\n",
       "    <tr>\n",
       "      <th>4</th>\n",
       "      <td>6868</td>\n",
       "      <td>villa gesell</td>\n",
       "      <td>-37.336673</td>\n",
       "      <td>-57.032501</td>\n",
       "      <td>368</td>\n",
       "      <td>A872833</td>\n",
       "      <td>Las Armas - EEA Cuenca Salado</td>\n",
       "      <td>-37.09</td>\n",
       "      <td>-57.87</td>\n",
       "      <td>79.218609</td>\n",
       "    </tr>\n",
       "    <tr>\n",
       "      <th>...</th>\n",
       "      <td>...</td>\n",
       "      <td>...</td>\n",
       "      <td>...</td>\n",
       "      <td>...</td>\n",
       "      <td>...</td>\n",
       "      <td>...</td>\n",
       "      <td>...</td>\n",
       "      <td>...</td>\n",
       "      <td>...</td>\n",
       "      <td>...</td>\n",
       "    </tr>\n",
       "    <tr>\n",
       "      <th>525</th>\n",
       "      <td>62007</td>\n",
       "      <td>adolfo alsina</td>\n",
       "      <td>-40.633583</td>\n",
       "      <td>-63.509506</td>\n",
       "      <td>724</td>\n",
       "      <td>A872970</td>\n",
       "      <td>Valle Inferior - EEA Valle Inf.</td>\n",
       "      <td>-40.80</td>\n",
       "      <td>-63.06</td>\n",
       "      <td>42.238023</td>\n",
       "    </tr>\n",
       "    <tr>\n",
       "      <th>526</th>\n",
       "      <td>62028</td>\n",
       "      <td>conesa</td>\n",
       "      <td>-40.220566</td>\n",
       "      <td>-64.070602</td>\n",
       "      <td>711</td>\n",
       "      <td>A872949</td>\n",
       "      <td>Guardia Mitre - EEA V Inferior</td>\n",
       "      <td>-40.43</td>\n",
       "      <td>-63.68</td>\n",
       "      <td>40.531653</td>\n",
       "    </tr>\n",
       "    <tr>\n",
       "      <th>527</th>\n",
       "      <td>6553</td>\n",
       "      <td>monte hermoso</td>\n",
       "      <td>-38.995358</td>\n",
       "      <td>-61.215202</td>\n",
       "      <td>468</td>\n",
       "      <td>A872838</td>\n",
       "      <td>Aparicio - EEA Barrow</td>\n",
       "      <td>-38.67</td>\n",
       "      <td>-60.93</td>\n",
       "      <td>43.792859</td>\n",
       "    </tr>\n",
       "    <tr>\n",
       "      <th>528</th>\n",
       "      <td>22084</td>\n",
       "      <td>libertador general san martin</td>\n",
       "      <td>-26.514810</td>\n",
       "      <td>-59.225561</td>\n",
       "      <td>51</td>\n",
       "      <td>NH0464</td>\n",
       "      <td>INTA - El Colorado (EMC)</td>\n",
       "      <td>-26.30</td>\n",
       "      <td>-59.38</td>\n",
       "      <td>28.352151</td>\n",
       "    </tr>\n",
       "    <tr>\n",
       "      <th>529</th>\n",
       "      <td>18042</td>\n",
       "      <td>empedrado</td>\n",
       "      <td>-27.705781</td>\n",
       "      <td>-58.688083</td>\n",
       "      <td>421</td>\n",
       "      <td>A872916</td>\n",
       "      <td>Sombrerito - EEA Corrientes</td>\n",
       "      <td>-27.65</td>\n",
       "      <td>-58.77</td>\n",
       "      <td>10.174303</td>\n",
       "    </tr>\n",
       "  </tbody>\n",
       "</table>\n",
       "<p>530 rows × 10 columns</p>\n",
       "</div>"
      ],
      "text/plain": [
       "    departamento_id            departamento_nombre    lat_dep    lon_dep  \\\n",
       "0             82105                   san jeronimo -32.239935 -61.231266   \n",
       "1             38112                           yavi -22.329812 -65.825982   \n",
       "2             62035                         el cuy -39.866718 -68.703438   \n",
       "3              6623                      pergamino -33.589305 -60.772765   \n",
       "4              6868                   villa gesell -37.336673 -57.032501   \n",
       "..              ...                            ...        ...        ...   \n",
       "525           62007                  adolfo alsina -40.633583 -63.509506   \n",
       "526           62028                         conesa -40.220566 -64.070602   \n",
       "527            6553                  monte hermoso -38.995358 -61.215202   \n",
       "528           22084  libertador general san martin -26.514810 -59.225561   \n",
       "529           18042                      empedrado -27.705781 -58.688083   \n",
       "\n",
       "     estacion_id estacion_id_interno                  estacion_nombre  \\\n",
       "0            297             A872868         Las Rosas - EEA Oliveros   \n",
       "1            516             A872923      Abra Pampa - EEA Abra Pampa   \n",
       "2            519             A872947        Plottier - IPAF Patagonia   \n",
       "3            236             A872814          Alfonso - EEA Pergamino   \n",
       "4            368             A872833    Las Armas - EEA Cuenca Salado   \n",
       "..           ...                 ...                              ...   \n",
       "525          724             A872970  Valle Inferior - EEA Valle Inf.   \n",
       "526          711             A872949   Guardia Mitre - EEA V Inferior   \n",
       "527          468             A872838            Aparicio - EEA Barrow   \n",
       "528           51              NH0464         INTA - El Colorado (EMC)   \n",
       "529          421             A872916      Sombrerito - EEA Corrientes   \n",
       "\n",
       "     lat_est  lon_est  distancia_km  \n",
       "0     -32.49   -61.57     42.253384  \n",
       "1     -22.80   -65.83     52.069337  \n",
       "2     -38.95   -68.33    106.737771  \n",
       "3     -33.91   -60.84     36.112224  \n",
       "4     -37.09   -57.87     79.218609  \n",
       "..       ...      ...           ...  \n",
       "525   -40.80   -63.06     42.238023  \n",
       "526   -40.43   -63.68     40.531653  \n",
       "527   -38.67   -60.93     43.792859  \n",
       "528   -26.30   -59.38     28.352151  \n",
       "529   -27.65   -58.77     10.174303  \n",
       "\n",
       "[530 rows x 10 columns]"
      ]
     },
     "execution_count": 13,
     "metadata": {},
     "output_type": "execute_result"
    }
   ],
   "source": [
    "# Exportar resultado a CSV \n",
    "df_asignado.to_csv(\"departamentos_con_estacion.csv\", index=False, encoding=\"utf-8\")\n",
    "print(\"Archivo 'departamentos_con_estacion.csv' generado con éxito.\")\n",
    "\n",
    "df_asignado"
   ]
  }
 ],
 "metadata": {
  "kernelspec": {
   "display_name": "Python 3",
   "language": "python",
   "name": "python3"
  },
  "language_info": {
   "codemirror_mode": {
    "name": "ipython",
    "version": 3
   },
   "file_extension": ".py",
   "mimetype": "text/x-python",
   "name": "python",
   "nbconvert_exporter": "python",
   "pygments_lexer": "ipython3",
   "version": "3.13.5"
  }
 },
 "nbformat": 4,
 "nbformat_minor": 5
}
