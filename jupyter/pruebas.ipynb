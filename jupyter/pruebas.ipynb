{
 "cells": [
  {
   "cell_type": "code",
   "execution_count": 9,
   "id": "02916009",
   "metadata": {},
   "outputs": [],
   "source": [
    "import pandas as pd\n",
    "import sqlite3"
   ]
  },
  {
   "cell_type": "code",
   "execution_count": 10,
   "id": "bf968a63",
   "metadata": {},
   "outputs": [],
   "source": [
    "df = pd.read_parquet('../data/datos_climaticos.parquet')"
   ]
  },
  {
   "cell_type": "code",
   "execution_count": 11,
   "id": "6428d67e",
   "metadata": {},
   "outputs": [
    {
     "name": "stdout",
     "output_type": "stream",
     "text": [
      "<class 'pandas.core.frame.DataFrame'>\n",
      "RangeIndex: 608509 entries, 0 to 608508\n",
      "Data columns (total 12 columns):\n",
      " #   Column                       Non-Null Count   Dtype         \n",
      "---  ------                       --------------   -----         \n",
      " 0   fecha                        608509 non-null  datetime64[ns]\n",
      " 1   id_estacion                  608509 non-null  object        \n",
      " 2   precipitacion_pluviometrica  608509 non-null  float64       \n",
      " 3   temperatura_minima           608509 non-null  float64       \n",
      " 4   temperatura_maxima           608509 non-null  float64       \n",
      " 5   temperatura_media            608509 non-null  float64       \n",
      " 6   humedad_media                608509 non-null  float64       \n",
      " 7   rocio_medio                  608509 non-null  float64       \n",
      " 8   tesion_vapor_media           608509 non-null  float64       \n",
      " 9   radiacion_global             608509 non-null  float64       \n",
      " 10  heliofania_efectiva          608509 non-null  float64       \n",
      " 11  heliofania_relativa          608509 non-null  float64       \n",
      "dtypes: datetime64[ns](1), float64(10), object(1)\n",
      "memory usage: 55.7+ MB\n"
     ]
    }
   ],
   "source": [
    "df.info()"
   ]
  },
  {
   "cell_type": "code",
   "execution_count": 12,
   "id": "58bce45b",
   "metadata": {},
   "outputs": [
    {
     "data": {
      "text/plain": [
       "fecha                          0\n",
       "id_estacion                    0\n",
       "precipitacion_pluviometrica    0\n",
       "temperatura_minima             0\n",
       "temperatura_maxima             0\n",
       "temperatura_media              0\n",
       "humedad_media                  0\n",
       "rocio_medio                    0\n",
       "tesion_vapor_media             0\n",
       "radiacion_global               0\n",
       "heliofania_efectiva            0\n",
       "heliofania_relativa            0\n",
       "dtype: int64"
      ]
     },
     "execution_count": 12,
     "metadata": {},
     "output_type": "execute_result"
    }
   ],
   "source": [
    "df.isna().sum()"
   ]
  },
  {
   "cell_type": "code",
   "execution_count": 6,
   "id": "c96cf9c1",
   "metadata": {},
   "outputs": [],
   "source": [
    "conn = sqlite3.connect('../database.db')\n",
    "cursor = conn.cursor()"
   ]
  },
  {
   "cell_type": "code",
   "execution_count": 8,
   "id": "8605b5ce",
   "metadata": {},
   "outputs": [
    {
     "data": {
      "text/plain": [
       "[]"
      ]
     },
     "execution_count": 8,
     "metadata": {},
     "output_type": "execute_result"
    }
   ],
   "source": [
    "cursor.execute('SELECT * FROM clima')\n",
    "cursor.fetchall()"
   ]
  }
 ],
 "metadata": {
  "kernelspec": {
   "display_name": "env",
   "language": "python",
   "name": "python3"
  },
  "language_info": {
   "codemirror_mode": {
    "name": "ipython",
    "version": 3
   },
   "file_extension": ".py",
   "mimetype": "text/x-python",
   "name": "python",
   "nbconvert_exporter": "python",
   "pygments_lexer": "ipython3",
   "version": "3.10.11"
  }
 },
 "nbformat": 4,
 "nbformat_minor": 5
}
