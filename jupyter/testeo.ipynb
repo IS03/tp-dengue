{
 "cells": [
  {
   "cell_type": "markdown",
   "id": "da423c38",
   "metadata": {},
   "source": [
    "# Base de datos con sqlite3."
   ]
  },
  {
   "cell_type": "code",
   "execution_count": 1,
   "id": "0fe647e0",
   "metadata": {},
   "outputs": [],
   "source": [
    "import sqlite3 as sql"
   ]
  },
  {
   "cell_type": "code",
   "execution_count": 2,
   "id": "df61219a",
   "metadata": {},
   "outputs": [],
   "source": [
    "conn = sql.connect('../database.db')\n",
    "db = conn.cursor() "
   ]
  },
  {
   "cell_type": "code",
   "execution_count": 3,
   "id": "26c76c4a",
   "metadata": {},
   "outputs": [
    {
     "data": {
      "text/plain": [
       "[('calendario',),\n",
       " ('provincias',),\n",
       " ('sqlite_sequence',),\n",
       " ('localidades',),\n",
       " ('estaciones',),\n",
       " ('grupoEdad',),\n",
       " ('clima',),\n",
       " ('contagios',)]"
      ]
     },
     "execution_count": 3,
     "metadata": {},
     "output_type": "execute_result"
    }
   ],
   "source": [
    "db.execute(\"SELECT name FROM sqlite_master WHERE type='table';\")\n",
    "db.fetchall()"
   ]
  },
  {
   "cell_type": "code",
   "execution_count": 4,
   "id": "6e39febc",
   "metadata": {},
   "outputs": [
    {
     "data": {
      "text/plain": [
       "[]"
      ]
     },
     "execution_count": 4,
     "metadata": {},
     "output_type": "execute_result"
    }
   ],
   "source": [
    "db.execute('SELECT * FROM localidades').fetchall()"
   ]
  },
  {
   "cell_type": "code",
   "execution_count": 6,
   "id": "4ee3a4f2",
   "metadata": {},
   "outputs": [
    {
     "data": {
      "text/plain": [
       "[]"
      ]
     },
     "execution_count": 6,
     "metadata": {},
     "output_type": "execute_result"
    }
   ],
   "source": [
    "db.execute('SELECT * FROM grupoEdad').fetchall()"
   ]
  },
  {
   "cell_type": "code",
   "execution_count": 7,
   "id": "326e65b4",
   "metadata": {},
   "outputs": [
    {
     "data": {
      "text/plain": [
       "[]"
      ]
     },
     "execution_count": 7,
     "metadata": {},
     "output_type": "execute_result"
    }
   ],
   "source": [
    "db.execute('SELECT * FROM contagios').fetchall()"
   ]
  },
  {
   "cell_type": "markdown",
   "id": "df48cbb6",
   "metadata": {},
   "source": [
    "# Archivo parquet."
   ]
  },
  {
   "cell_type": "code",
   "execution_count": 5,
   "id": "7d8c98e1",
   "metadata": {},
   "outputs": [],
   "source": [
    "import pandas as pd"
   ]
  },
  {
   "cell_type": "code",
   "execution_count": 6,
   "id": "f34cc333",
   "metadata": {},
   "outputs": [
    {
     "name": "stdout",
     "output_type": "stream",
     "text": [
      "<class 'pandas.core.frame.DataFrame'>\n",
      "RangeIndex: 579195 entries, 0 to 579194\n",
      "Data columns (total 12 columns):\n",
      " #   Column                       Non-Null Count   Dtype         \n",
      "---  ------                       --------------   -----         \n",
      " 0   fecha                        579195 non-null  datetime64[ns]\n",
      " 1   id_estacion                  579195 non-null  object        \n",
      " 2   precipitacion_pluviometrica  579195 non-null  float64       \n",
      " 3   temperatura_minima           579195 non-null  float64       \n",
      " 4   temperatura_maxima           579195 non-null  float64       \n",
      " 5   temperatura_media            579195 non-null  float64       \n",
      " 6   humedad_media                579195 non-null  float64       \n",
      " 7   rocio_medio                  579195 non-null  float64       \n",
      " 8   tesion_vapor_media           579195 non-null  float64       \n",
      " 9   radiacion_global             579195 non-null  float64       \n",
      " 10  heliofania_efectiva          579195 non-null  float64       \n",
      " 11  heliofania_relativa          579195 non-null  float64       \n",
      "dtypes: datetime64[ns](1), float64(10), object(1)\n",
      "memory usage: 53.0+ MB\n"
     ]
    }
   ],
   "source": [
    "df = pd.read_parquet('../data/datos_climaticos.parquet')\n",
    "df.info()"
   ]
  },
  {
   "cell_type": "code",
   "execution_count": 7,
   "id": "60a76904",
   "metadata": {},
   "outputs": [
    {
     "data": {
      "text/plain": [
       "fecha                          0\n",
       "id_estacion                    0\n",
       "precipitacion_pluviometrica    0\n",
       "temperatura_minima             0\n",
       "temperatura_maxima             0\n",
       "temperatura_media              0\n",
       "humedad_media                  0\n",
       "rocio_medio                    0\n",
       "tesion_vapor_media             0\n",
       "radiacion_global               0\n",
       "heliofania_efectiva            0\n",
       "heliofania_relativa            0\n",
       "dtype: int64"
      ]
     },
     "execution_count": 7,
     "metadata": {},
     "output_type": "execute_result"
    }
   ],
   "source": [
    "df.isna().sum()"
   ]
  },
  {
   "cell_type": "code",
   "execution_count": 13,
   "id": "92ea2581",
   "metadata": {},
   "outputs": [
    {
     "data": {
      "text/plain": [
       "<matplotlib.collections.PathCollection at 0x1f5dec90850>"
      ]
     },
     "execution_count": 13,
     "metadata": {},
     "output_type": "execute_result"
    },
    {
     "data": {
      "image/png": "[encoded data removed]",
      "text/plain": [
       "<Figure size 640x480 with 1 Axes>"
      ]
     },
     "metadata": {},
     "output_type": "display_data"
    }
   ],
   "source": [
    "import matplotlib.pyplot as plt\n",
    "\n",
    "plt.scatter(x=df.fecha, y=df.radiacion_global)"
   ]
  },
  {
   "cell_type": "code",
   "execution_count": 14,
   "id": "0eb2b571",
   "metadata": {},
   "outputs": [
    {
     "name": "stdout",
     "output_type": "stream",
     "text": [
      "1956-06-12 00:00:00 2025-09-13 00:00:00\n"
     ]
    }
   ],
   "source": [
    "min_fecha, max_fecha = df.fecha.min(), df.fecha.max()\n",
    "print(min_fecha, max_fecha)"
   ]
  }
 ],
 "metadata": {
  "kernelspec": {
   "display_name": "env",
   "language": "python",
   "name": "python3"
  },
  "language_info": {
   "codemirror_mode": {
    "name": "ipython",
    "version": 3
   },
   "file_extension": ".py",
   "mimetype": "text/x-python",
   "name": "python",
   "nbconvert_exporter": "python",
   "pygments_lexer": "ipython3",
   "version": "3.10.11"
  }
 },
 "nbformat": 4,
 "nbformat_minor": 5
}
